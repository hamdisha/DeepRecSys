{
 "cells": [
  {
   "cell_type": "code",
   "execution_count": 1,
   "metadata": {},
   "outputs": [
    {
     "name": "stderr",
     "output_type": "stream",
     "text": [
      "Using TensorFlow backend.\n"
     ]
    }
   ],
   "source": [
    "import pandas as pd\n",
    "import numpy as np\n",
    "from sklearn.model_selection import train_test_split\n",
    "import scipy.sparse as sp\n",
    "\n",
    "from keras.layers import Input, Lambda, merge, Dense, Flatten, Embedding, concatenate\n",
    "from keras.models import Model, Sequential\n",
    "from keras.regularizers import l2\n",
    "from keras import backend as K\n",
    "from keras.optimizers import SGD,Adam\n",
    "from keras.losses import binary_crossentropy\n",
    "import numpy.random as rng\n",
    "import numpy as np\n",
    "import os\n",
    "import pickle\n",
    "import matplotlib.pyplot as plt\n",
    "import seaborn as sns\n",
    "from sklearn.utils import shuffle\n",
    "\n",
    "import preprocessing_data as data\n",
    "import metrics"
   ]
  },
  {
   "cell_type": "markdown",
   "metadata": {},
   "source": [
    "## Load and transform data\n",
    "We're going to load the Movielens $1M$ dataset and create triplets of (user, known positive item, randomly sampled negative item).\n",
    "\n",
    "The success metric is AUC: in this case, the probability that a randomly chosen known positive item from the test set is ranked higher for a given user than a ranomly chosen negative item."
   ]
  },
  {
   "cell_type": "code",
   "execution_count": 2,
   "metadata": {},
   "outputs": [],
   "source": [
    "df = pd.read_csv('data/mldataset/ratings.dat', sep = '::', engine='python', header=None)\n",
    "df.columns = ['UserId', 'MovieId', 'Rating', 'Timestamp']\n",
    "\n",
    "x = np.array(df[['UserId', 'MovieId']])\n",
    "y = np.array(df['Rating'])\n",
    "\n",
    "# Read data\n",
    "train, test = data.get_movielens_data()\n",
    "num_users, num_items = max(df.UserId) +1, max(df.MovieId) +1\n",
    "\n",
    "# Prepare the test triplets\n",
    "test_uid, test_pid, test_nid = data.get_triplets(test)"
   ]
  },
  {
   "cell_type": "code",
   "execution_count": 7,
   "metadata": {},
   "outputs": [
    {
     "data": {
      "text/plain": [
       "(944, 1683)"
      ]
     },
     "execution_count": 7,
     "metadata": {},
     "output_type": "execute_result"
    }
   ],
   "source": [
    "train.toarray().shape"
   ]
  },
  {
   "cell_type": "markdown",
   "metadata": {},
   "source": [
    "Define a metric between pairs, the _triplet loss function_."
   ]
  },
  {
   "cell_type": "markdown",
   "metadata": {},
   "source": [
    "## Neural Network Architecture"
   ]
  },
  {
   "cell_type": "code",
   "execution_count": 3,
   "metadata": {},
   "outputs": [],
   "source": [
    "def identity_loss(y_true, y_pred): \n",
    "\n",
    "    return K.mean(y_pred - 0 * y_true)\n",
    "\n",
    "def triplet_loss(inputs, alpha = 0.05):\n",
    "\n",
    "    anchor, positive, negative = inputs\n",
    "    \n",
    "    pos_dist = K.sum(K.square(anchor-positive), axis=-1)\n",
    "    neg_dist = K.sum(K.square(anchor-negative), axis=-1)\n",
    "    loss = K.sum(K.maximum(pos_dist - neg_dist + alpha, 0), axis=0)\n",
    "\n",
    "    return loss\n",
    "\n",
    "def bpr_triplet_loss(inputs):\n",
    "\n",
    "    anchor_latent, positive_item_latent, negative_item_latent = inputs\n",
    "\n",
    "    # BPR loss\n",
    "    loss = 1.0 - K.sigmoid(\n",
    "        K.sum(anchor_latent * positive_item_latent, axis=-1, keepdims=True) -\n",
    "        K.sum(anchor_latent * negative_item_latent, axis=-1, keepdims=True))\n",
    "\n",
    "    return loss\n",
    "\n",
    "def triploss(x): \n",
    "    res = tf.py_function(bpr_triplet_loss, [x], tf.float32)\n",
    "    res.set_shape((None, 1))\n",
    "    return res "
   ]
  },
  {
   "cell_type": "code",
   "execution_count": 4,
   "metadata": {},
   "outputs": [],
   "source": [
    "def getModel(n_users, n_items, emb_dim = 20, margin=1):\n",
    "    \n",
    "    # Input Layers\n",
    "    user_input = Input(shape=[1], name = 'user_input')\n",
    "    pos_item_input = Input(shape=[1], name = 'pos_item_input')\n",
    "    neg_item_input = Input(shape=[1], name = 'neg_item_input')\n",
    "    \n",
    "    # Embedding Layers\n",
    "    # Shared embedding layer for positive and negative items\n",
    "    user_embedding = Embedding(output_dim=emb_dim, input_dim=n_users + 1, input_length=1, name='user_emb')(user_input)\n",
    "    item_embedding = Embedding(output_dim=emb_dim, input_dim=n_items + 1, input_length=1, name='item_emb')\n",
    "    \n",
    "    pos_item_embedding = item_embedding(pos_item_input)\n",
    "    neg_item_embedding = item_embedding(neg_item_input)\n",
    "    \n",
    "    user_vecs = Flatten(name='user_emb_vec')(user_embedding)\n",
    "    pos_item_vecs = Flatten(name='pos_emb_vec')(pos_item_embedding)\n",
    "    neg_item_vecs = Flatten(name='neg_emb_vec')(neg_item_embedding)\n",
    "    \n",
    "    # Triplet loss function \n",
    "    AP_loss = Lambda(lambda tensors:K.sum(K.square(tensors[0]*tensors[1]),axis=-1,keepdims=True),name='AP_loss')([user_vecs, pos_item_vecs])\n",
    "    AN_loss = Lambda(lambda tensors:K.sum(K.square(tensors[0]*tensors[1]),axis=-1,keepdims=True),name='AN_loss')([user_vecs, neg_item_vecs])\n",
    "    Triplet_loss = Lambda(lambda loss: 1.0 - K.sigmoid(loss[0] - loss[1]),\n",
    "                      name='Triplet_loss')\n",
    "    \n",
    "    #call this layer on list of two input tensors.\n",
    "    Final_loss = Triplet_loss([AP_loss, AN_loss])\n",
    "\n",
    "    model = Model(inputs=[user_input, pos_item_input, neg_item_input],outputs=[Final_loss])\n",
    "    model.compile(loss=identity_loss, optimizer=Adam(), metrics=['accuracy'])\n",
    "    \n",
    "    return model"
   ]
  },
  {
   "cell_type": "code",
   "execution_count": 5,
   "metadata": {},
   "outputs": [
    {
     "name": "stdout",
     "output_type": "stream",
     "text": [
      "Model: \"model_1\"\n",
      "__________________________________________________________________________________________________\n",
      "Layer (type)                    Output Shape         Param #     Connected to                     \n",
      "==================================================================================================\n",
      "user_input (InputLayer)         (None, 1)            0                                            \n",
      "__________________________________________________________________________________________________\n",
      "pos_item_input (InputLayer)     (None, 1)            0                                            \n",
      "__________________________________________________________________________________________________\n",
      "neg_item_input (InputLayer)     (None, 1)            0                                            \n",
      "__________________________________________________________________________________________________\n",
      "user_emb (Embedding)            (None, 1, 100)       604200      user_input[0][0]                 \n",
      "__________________________________________________________________________________________________\n",
      "item_emb (Embedding)            (None, 1, 100)       395400      pos_item_input[0][0]             \n",
      "                                                                 neg_item_input[0][0]             \n",
      "__________________________________________________________________________________________________\n",
      "user_emb_vec (Flatten)          (None, 100)          0           user_emb[0][0]                   \n",
      "__________________________________________________________________________________________________\n",
      "pos_emb_vec (Flatten)           (None, 100)          0           item_emb[0][0]                   \n",
      "__________________________________________________________________________________________________\n",
      "neg_emb_vec (Flatten)           (None, 100)          0           item_emb[1][0]                   \n",
      "__________________________________________________________________________________________________\n",
      "AP_loss (Lambda)                (None, 1)            0           user_emb_vec[0][0]               \n",
      "                                                                 pos_emb_vec[0][0]                \n",
      "__________________________________________________________________________________________________\n",
      "AN_loss (Lambda)                (None, 1)            0           user_emb_vec[0][0]               \n",
      "                                                                 neg_emb_vec[0][0]                \n",
      "__________________________________________________________________________________________________\n",
      "Triplet_loss (Lambda)           (None, 1)            0           AP_loss[0][0]                    \n",
      "                                                                 AN_loss[0][0]                    \n",
      "==================================================================================================\n",
      "Total params: 999,600\n",
      "Trainable params: 999,600\n",
      "Non-trainable params: 0\n",
      "__________________________________________________________________________________________________\n",
      "None\n",
      "AUC before training 0.4979528166910992\n"
     ]
    }
   ],
   "source": [
    "emb_dim = 100\n",
    "n_epochs = 20\n",
    "\n",
    "model = getModel(num_users, num_items, emb_dim)\n",
    "\n",
    "# Print the model structure\n",
    "print(model.summary())\n",
    "\n",
    "# Sanity check, should be around 0.5\n",
    "print('AUC before training %s' % metrics.full_auc(model, test))\n"
   ]
  },
  {
   "cell_type": "code",
   "execution_count": 6,
   "metadata": {},
   "outputs": [
    {
     "name": "stdout",
     "output_type": "stream",
     "text": [
      "Epoch 0\n"
     ]
    },
    {
     "name": "stderr",
     "output_type": "stream",
     "text": [
      "/opt/conda/lib/python3.7/site-packages/tensorflow_core/python/framework/indexed_slices.py:424: UserWarning: Converting sparse IndexedSlices to a dense Tensor of unknown shape. This may consume a large amount of memory.\n",
      "  \"Converting sparse IndexedSlices to a dense Tensor of unknown shape. \"\n"
     ]
    },
    {
     "name": "stdout",
     "output_type": "stream",
     "text": [
      "AUC 0.4933859503570521\n",
      "Epoch 1\n",
      "AUC 0.4923985335323258\n",
      "Epoch 2\n",
      "AUC 0.4926312621200061\n",
      "Epoch 3\n",
      "AUC 0.4953075512386629\n",
      "Epoch 4\n",
      "AUC 0.49496981619833613\n",
      "Epoch 5\n",
      "AUC 0.4951794481094716\n",
      "Epoch 6\n",
      "AUC 0.495571400337752\n",
      "Epoch 7\n",
      "AUC 0.4966562351203805\n",
      "Epoch 8\n",
      "AUC 0.4957264756223382\n",
      "Epoch 9\n",
      "AUC 0.4967664864742963\n",
      "Epoch 10\n",
      "AUC 0.4988876970609935\n",
      "Epoch 11\n",
      "AUC 0.4986669394590502\n",
      "Epoch 12\n",
      "AUC 0.4983488105028148\n",
      "Epoch 13\n",
      "AUC 0.4979363490233906\n",
      "Epoch 14\n",
      "AUC 0.4980200197223901\n",
      "Epoch 15\n",
      "AUC 0.49754852043498443\n",
      "Epoch 16\n",
      "AUC 0.49775049834168994\n",
      "Epoch 17\n",
      "AUC 0.49821718098914103\n",
      "Epoch 18\n",
      "AUC 0.4987022261658519\n",
      "Epoch 19\n",
      "AUC 0.49949989949587953\n"
     ]
    }
   ],
   "source": [
    "for epoch in range(n_epochs):\n",
    "\n",
    "    print('Epoch %s' % epoch)\n",
    "\n",
    "    # Sample triplets from the training data\n",
    "    uid, pid, nid = data.get_triplets(train)\n",
    "\n",
    "    X = {\n",
    "        'user_input': uid,\n",
    "        'pos_item_input': pid,\n",
    "        'neg_item_input': nid\n",
    "    }\n",
    "\n",
    "    model.fit(X,\n",
    "              np.ones(len(uid)),\n",
    "              batch_size=64,\n",
    "              epochs=1,\n",
    "              verbose=0,\n",
    "              shuffle=True)\n",
    "\n",
    "    print('AUC %s' % metrics.full_auc(model, test))"
   ]
  },
  {
   "cell_type": "code",
   "execution_count": 7,
   "metadata": {},
   "outputs": [
    {
     "name": "stdout",
     "output_type": "stream",
     "text": [
      "Epoch 1/20\n",
      "49906/49906 [==============================] - 7s 137us/step - loss: 0.1102 - accuracy: 0.1033\n",
      "Epoch 2/20\n",
      "49906/49906 [==============================] - 7s 133us/step - loss: 0.1020 - accuracy: 0.0945\n",
      "Epoch 3/20\n",
      "49906/49906 [==============================] - 6s 129us/step - loss: 0.0949 - accuracy: 0.0867\n",
      "Epoch 4/20\n",
      "49906/49906 [==============================] - 7s 134us/step - loss: 0.0887 - accuracy: 0.0807\n",
      "Epoch 5/20\n",
      "49906/49906 [==============================] - 6s 124us/step - loss: 0.0830 - accuracy: 0.0758\n",
      "Epoch 6/20\n",
      "49906/49906 [==============================] - 6s 117us/step - loss: 0.0781 - accuracy: 0.0720\n",
      "Epoch 7/20\n",
      "49906/49906 [==============================] - 7s 137us/step - loss: 0.0738 - accuracy: 0.0686\n",
      "Epoch 8/20\n",
      "49906/49906 [==============================] - 6s 123us/step - loss: 0.0699 - accuracy: 0.0653\n",
      "Epoch 9/20\n",
      "49906/49906 [==============================] - 7s 138us/step - loss: 0.0665 - accuracy: 0.0628\n",
      "Epoch 10/20\n",
      "49906/49906 [==============================] - 7s 133us/step - loss: 0.0636 - accuracy: 0.0605\n",
      "Epoch 11/20\n",
      "49906/49906 [==============================] - 6s 113us/step - loss: 0.0611 - accuracy: 0.0586\n",
      "Epoch 12/20\n",
      "49906/49906 [==============================] - 7s 134us/step - loss: 0.0587 - accuracy: 0.0565\n",
      "Epoch 13/20\n",
      "49906/49906 [==============================] - 6s 128us/step - loss: 0.0563 - accuracy: 0.0543\n",
      "Epoch 14/20\n",
      "49906/49906 [==============================] - 6s 126us/step - loss: 0.0542 - accuracy: 0.0527\n",
      "Epoch 15/20\n",
      "49906/49906 [==============================] - 7s 133us/step - loss: 0.0526 - accuracy: 0.0514\n",
      "Epoch 16/20\n",
      "49906/49906 [==============================] - 6s 126us/step - loss: 0.0511 - accuracy: 0.0501\n",
      "Epoch 17/20\n",
      "49906/49906 [==============================] - 6s 117us/step - loss: 0.0496 - accuracy: 0.0486\n",
      "Epoch 18/20\n",
      "49906/49906 [==============================] - 6s 122us/step - loss: 0.0483 - accuracy: 0.0474\n",
      "Epoch 19/20\n",
      "49906/49906 [==============================] - 7s 143us/step - loss: 0.0472 - accuracy: 0.0465\n",
      "Epoch 20/20\n",
      "49906/49906 [==============================] - 8s 151us/step - loss: 0.0461 - accuracy: 0.0454\n"
     ]
    },
    {
     "data": {
      "text/plain": [
       "<keras.callbacks.callbacks.History at 0x7f6cc52be4d0>"
      ]
     },
     "execution_count": 7,
     "metadata": {},
     "output_type": "execute_result"
    }
   ],
   "source": [
    "model.fit(X,\n",
    "              np.ones(len(uid)),\n",
    "              batch_size=64,\n",
    "              epochs=20,\n",
    "              verbose=1,\n",
    "              shuffle=True)"
   ]
  },
  {
   "cell_type": "code",
   "execution_count": 9,
   "metadata": {},
   "outputs": [
    {
     "data": {
      "text/plain": [
       "UserId               4\n",
       "MovieId           2951\n",
       "Rating               4\n",
       "Timestamp    978294282\n",
       "Name: 235, dtype: int64"
      ]
     },
     "execution_count": 9,
     "metadata": {},
     "output_type": "execute_result"
    }
   ],
   "source": [
    "df.iloc[235]"
   ]
  },
  {
   "cell_type": "code",
   "execution_count": 21,
   "metadata": {},
   "outputs": [
    {
     "data": {
      "text/plain": [
       "-8.945791"
      ]
     },
     "execution_count": 21,
     "metadata": {},
     "output_type": "execute_result"
    }
   ],
   "source": [
    "metrics.predict(model, uid = 1, pids = 5)"
   ]
  },
  {
   "cell_type": "code",
   "execution_count": 17,
   "metadata": {},
   "outputs": [
    {
     "data": {
      "text/plain": [
       "array([   1,    3,    6, ...,  928,  943, 1074], dtype=int32)"
      ]
     },
     "execution_count": 17,
     "metadata": {},
     "output_type": "execute_result"
    }
   ],
   "source": [
    "pid"
   ]
  },
  {
   "cell_type": "code",
   "execution_count": null,
   "metadata": {},
   "outputs": [],
   "source": []
  }
 ],
 "metadata": {
  "kernelspec": {
   "display_name": "Python 3",
   "language": "python",
   "name": "python3"
  },
  "language_info": {
   "codemirror_mode": {
    "name": "ipython",
    "version": 3
   },
   "file_extension": ".py",
   "mimetype": "text/x-python",
   "name": "python",
   "nbconvert_exporter": "python",
   "pygments_lexer": "ipython3",
   "version": "3.7.6"
  }
 },
 "nbformat": 4,
 "nbformat_minor": 4
}
